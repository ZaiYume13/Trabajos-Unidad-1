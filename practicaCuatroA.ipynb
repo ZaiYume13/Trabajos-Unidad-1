{
  "nbformat": 4,
  "nbformat_minor": 0,
  "metadata": {
    "colab": {
      "provenance": [],
      "authorship_tag": "ABX9TyNRPCYgjT9SxhZV4G9Qhfjh",
      "include_colab_link": true
    },
    "kernelspec": {
      "name": "python3",
      "display_name": "Python 3"
    },
    "language_info": {
      "name": "python"
    }
  },
  "cells": [
    {
      "cell_type": "markdown",
      "metadata": {
        "id": "view-in-github",
        "colab_type": "text"
      },
      "source": [
        "<a href=\"https://colab.research.google.com/github/ZaiYume13/Trabajos-Unidad-1/blob/main/practicaCuatroA.ipynb\" target=\"_parent\"><img src=\"https://colab.research.google.com/assets/colab-badge.svg\" alt=\"Open In Colab\"/></a>"
      ]
    },
    {
      "cell_type": "code",
      "execution_count": 1,
      "metadata": {
        "colab": {
          "base_uri": "https://localhost:8080/"
        },
        "id": "OJn9jYKRK6kK",
        "outputId": "e6237edd-6c0d-4db6-81e1-81210eb7a162"
      },
      "outputs": [
        {
          "output_type": "stream",
          "name": "stdout",
          "text": [
            "\n",
            " Escribe la base: 23\n",
            " Escribe la altura: 12.3\n",
            "\n",
            " El triángulo con base de:  23.0  y con altura de:  12.3 , su área es de:  141.45000000000002\n"
          ]
        }
      ],
      "source": [
        "class Triangulo:\n",
        "\t\"\"\"Define un Triángulo según su base y su altura\"\"\"\n",
        "\tdef __init__(self,b,h):\n",
        "\t\tself.b = b\n",
        "\t\tself.h = h\n",
        "\tdef area (self):\n",
        "\t\tr = (self.b * self.h)/2\n",
        "\t\treturn r\n",
        "\n",
        "ba = float(input(\"\\n Escribe la base: \"))\n",
        "ha = float(input(\" Escribe la altura: \"))\n",
        "tritangulo = Triangulo(ba,ha)\n",
        "print(\"\\n El triángulo con base de: \",ba,\" y con altura de: \",ha,\", su área es de: \",tritangulo.area())"
      ]
    }
  ]
}