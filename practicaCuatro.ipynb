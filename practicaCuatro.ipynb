{
  "nbformat": 4,
  "nbformat_minor": 0,
  "metadata": {
    "colab": {
      "provenance": [],
      "authorship_tag": "ABX9TyOO+UUE1kcHwu2lg1htyk0k",
      "include_colab_link": true
    },
    "kernelspec": {
      "name": "python3",
      "display_name": "Python 3"
    },
    "language_info": {
      "name": "python"
    }
  },
  "cells": [
    {
      "cell_type": "markdown",
      "metadata": {
        "id": "view-in-github",
        "colab_type": "text"
      },
      "source": [
        "<a href=\"https://colab.research.google.com/github/ZaiYume13/Trabajos-Unidad-1/blob/main/practicaCuatro.ipynb\" target=\"_parent\"><img src=\"https://colab.research.google.com/assets/colab-badge.svg\" alt=\"Open In Colab\"/></a>"
      ]
    },
    {
      "cell_type": "code",
      "execution_count": 1,
      "metadata": {
        "colab": {
          "base_uri": "https://localhost:8080/"
        },
        "id": "bt16x-LBIBdk",
        "outputId": "35bf0839-ccb8-400c-bf20-078a1e18e0bd"
      },
      "outputs": [
        {
          "output_type": "stream",
          "name": "stdout",
          "text": [
            "\n",
            " Escribe la base: 12.7\n",
            " Escribe la altura: 10.01\n",
            "\n",
            " El rectángulo con base de:  12.7  y con altura de:  10.01 , su área es de:  127.127\n"
          ]
        }
      ],
      "source": [
        "class Rectangulo:\n",
        "\t\"\"\"Define un rectangulo según su base y su altura\"\"\"\n",
        "\tdef __init__(self,b,h):\n",
        "\t\tself.b = b\n",
        "\t\tself.h = h\n",
        "\tdef area (self):\n",
        "\t\treturn self.b * self.h\n",
        "\n",
        "ba = float(input(\"\\n Escribe la base: \"))\n",
        "ha = float(input(\" Escribe la altura: \"))\n",
        "rectangulo = Rectangulo(ba,ha)\n",
        "print(\"\\n El rectángulo con base de: \",ba,\" y con altura de: \",ha,\", su área es de: \",rectangulo.area())"
      ]
    }
  ]
}