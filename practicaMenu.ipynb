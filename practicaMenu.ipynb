{
  "nbformat": 4,
  "nbformat_minor": 0,
  "metadata": {
    "colab": {
      "provenance": [],
      "authorship_tag": "ABX9TyN/JWh/AP+5luhvPUQnjoor",
      "include_colab_link": true
    },
    "kernelspec": {
      "name": "python3",
      "display_name": "Python 3"
    },
    "language_info": {
      "name": "python"
    }
  },
  "cells": [
    {
      "cell_type": "markdown",
      "metadata": {
        "id": "view-in-github",
        "colab_type": "text"
      },
      "source": [
        "<a href=\"https://colab.research.google.com/github/ZaiYume13/Trabajos-Unidad-1/blob/main/practicaMenu.ipynb\" target=\"_parent\"><img src=\"https://colab.research.google.com/assets/colab-badge.svg\" alt=\"Open In Colab\"/></a>"
      ]
    },
    {
      "cell_type": "code",
      "execution_count": 2,
      "metadata": {
        "colab": {
          "base_uri": "https://localhost:8080/"
        },
        "id": "JQbGoXjTVwVD",
        "outputId": "6ed36880-0318-4fb9-ccb9-5ac330ff4241"
      },
      "outputs": [
        {
          "name": "stdout",
          "output_type": "stream",
          "text": [
            "\n",
            " **** M E N Ú **** \n",
            "\n",
            " ¿Qué quieres calcular? \n",
            "\n",
            "1. Área de un rectángulo: \n",
            "2. Área de un triángulo: \n",
            "3. Salir \n",
            "\n",
            "Elige una opción: 1\n",
            "\n",
            " Escribe la base del rectángulo: 12.45\n",
            " Escribe la altura del rectángulo: 3.4\n",
            "\n",
            " El rectángulo con base de:  12.45  y con altura de:  3.4 , su área es de:  42.33 \n",
            "\n",
            "Elige una opción: 2\n",
            "\n",
            " Escribe la base del triángulo: 5\n",
            " Escribe la altura del triángulo: 7.9\n",
            "\n",
            " El triángulo con base de:  5.0  y con altura de:  7.9 , su área es de:  19.75 \n",
            "\n",
            "Elige una opción: 3\n"
          ]
        }
      ],
      "source": [
        "class Poligono:\n",
        "\t\"\"\"Define un polígono según su base y su altura.\"\"\"\n",
        "\tdef __init__(self,b,h):\n",
        "\t\tself.b = b\n",
        "\t\tself.h = h\n",
        "\n",
        "class Rectangulo(Poligono):\n",
        "\tdef area (self):\n",
        "\t\treturn self.b * self.h\n",
        "\n",
        "class Triangulo(Poligono):\n",
        "\tdef area (self):\n",
        "\t\treturn (self.b * self.h)/2\n",
        "\n",
        "print(\"\\n **** M E N Ú **** \\n\")\n",
        "\n",
        "print(\" ¿Qué quieres calcular? \\n\")\n",
        "print(\"1. Área de un rectángulo: \")\n",
        "print(\"2. Área de un triángulo: \")\n",
        "print(\"3. Salir \\n\")\n",
        "\n",
        "op = int(input(\"Elige una opción: \"))\n",
        "\n",
        "while (op != 3):\n",
        "\n",
        "\tif (op == 1):\n",
        "\t\tba = float(input(\"\\n Escribe la base del rectángulo: \"))\n",
        "\t\tha = float(input(\" Escribe la altura del rectángulo: \"))\n",
        "\t\trectangulo = Rectangulo (ba,ha)\n",
        "\t\tprint(\"\\n El rectángulo con base de: \",ba,\" y con altura de: \",ha,\", su área es de: \",rectangulo.area(),\"\\n\")\n",
        "\top = int(input(\"Elige una opción: \"))\n",
        "\tif (op == 2):\n",
        "\t\tba = float(input(\"\\n Escribe la base del triángulo: \"))\n",
        "\t\tha = float(input(\" Escribe la altura del triángulo: \"))\n",
        "\t\ttriangulo = Triangulo (ba,ha)\n",
        "\t\tprint(\"\\n El triángulo con base de: \",ba,\" y con altura de: \",ha,\", su área es de: \",triangulo.area(),\"\\n\")"
      ]
    }
  ]
}