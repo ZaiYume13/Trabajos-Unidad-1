{
  "nbformat": 4,
  "nbformat_minor": 0,
  "metadata": {
    "colab": {
      "provenance": [],
      "authorship_tag": "ABX9TyOc63AujHpEpMw3G7gIfU+0",
      "include_colab_link": true
    },
    "kernelspec": {
      "name": "python3",
      "display_name": "Python 3"
    },
    "language_info": {
      "name": "python"
    }
  },
  "cells": [
    {
      "cell_type": "markdown",
      "metadata": {
        "id": "view-in-github",
        "colab_type": "text"
      },
      "source": [
        "<a href=\"https://colab.research.google.com/github/ZaiYume13/Trabajos-Unidad-1/blob/main/practicaCinco.ipynb\" target=\"_parent\"><img src=\"https://colab.research.google.com/assets/colab-badge.svg\" alt=\"Open In Colab\"/></a>"
      ]
    },
    {
      "cell_type": "code",
      "execution_count": 1,
      "metadata": {
        "colab": {
          "base_uri": "https://localhost:8080/"
        },
        "id": "9WpD-CXQMVc-",
        "outputId": "2a8dcedc-a237-4011-92ad-603f28daa7fc"
      },
      "outputs": [
        {
          "output_type": "stream",
          "name": "stdout",
          "text": [
            " \n",
            "Área del rectángulo:  200\n",
            " \n",
            "Área del triángulo:  120.0\n"
          ]
        }
      ],
      "source": [
        "class Poligono:\n",
        "\t\"\"\"Define un polígono según su base y su altura.\"\"\"\n",
        "\tdef __init__(self,b,h):\n",
        "\t\tself.b = b\n",
        "\t\tself.h = h\n",
        "\n",
        "class Rectangulo(Poligono):\n",
        "\tdef area (self):\n",
        "\t\treturn self.b * self.h\n",
        "\n",
        "class Triangulo(Poligono):\n",
        "\tdef area (self):\n",
        "\t\treturn (self.b * self.h)/2\n",
        "\n",
        "rectangulo = Rectangulo (20,10)\n",
        "triangulo = Triangulo (20,12)\n",
        "print(\" \\nÁrea del rectángulo: \",rectangulo.area())\n",
        "print(\" \\nÁrea del triángulo: \",triangulo.area())"
      ]
    }
  ]
}