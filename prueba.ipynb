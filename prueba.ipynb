{
  "cells": [
    {
      "cell_type": "markdown",
      "metadata": {
        "id": "view-in-github",
        "colab_type": "text"
      },
      "source": [
        "<a href=\"https://colab.research.google.com/github/ZaiYume13/Trabajos-Unidad-1/blob/main/prueba.ipynb\" target=\"_parent\"><img src=\"https://colab.research.google.com/assets/colab-badge.svg\" alt=\"Open In Colab\"/></a>"
      ]
    },
    {
      "cell_type": "code",
      "source": [],
      "metadata": {
        "id": "rJd__EHXEh6r"
      },
      "execution_count": null,
      "outputs": []
    },
    {
      "cell_type": "code",
      "execution_count": 2,
      "metadata": {
        "id": "zwFnJsE6vjf8",
        "outputId": "0588fbe7-07fc-402a-d67d-8c3e136bf373",
        "colab": {
          "base_uri": "https://localhost:8080/"
        }
      },
      "outputs": [
        {
          "output_type": "stream",
          "name": "stdout",
          "text": [
            "¡Hola,Pablo!\n",
            "Pablo\n"
          ]
        }
      ],
      "source": [
        "class Alumno:\n",
        "\tdef __init__(self):\n",
        "\t\tself.nombre = \"Pablo\"\n",
        "\tdef Saludar (self):\n",
        "\t\t\"\"\"Imprime un saludo en la pantalla\"\"\"\n",
        "\t\tprint(f\"¡Hola,{self.nombre}!\")\n",
        "\n",
        "x = Alumno()\n",
        "x.Saludar()\n",
        "print(x.nombre)"
      ]
    }
  ],
  "metadata": {
    "colab": {
      "name": "Te damos la bienvenida a Colaboratory",
      "provenance": [],
      "include_colab_link": true
    },
    "kernelspec": {
      "display_name": "Python 3",
      "name": "python3"
    }
  },
  "nbformat": 4,
  "nbformat_minor": 0
}