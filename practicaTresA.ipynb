{
  "nbformat": 4,
  "nbformat_minor": 0,
  "metadata": {
    "colab": {
      "provenance": [],
      "authorship_tag": "ABX9TyMHHGUdyDJ/7FjIdJHcJHDo",
      "include_colab_link": true
    },
    "kernelspec": {
      "name": "python3",
      "display_name": "Python 3"
    },
    "language_info": {
      "name": "python"
    }
  },
  "cells": [
    {
      "cell_type": "markdown",
      "metadata": {
        "id": "view-in-github",
        "colab_type": "text"
      },
      "source": [
        "<a href=\"https://colab.research.google.com/github/ZaiYume13/Trabajos-Unidad-1/blob/main/practicaTresA.ipynb\" target=\"_parent\"><img src=\"https://colab.research.google.com/assets/colab-badge.svg\" alt=\"Open In Colab\"/></a>"
      ]
    },
    {
      "cell_type": "code",
      "execution_count": 1,
      "metadata": {
        "colab": {
          "base_uri": "https://localhost:8080/"
        },
        "id": "UsBLVfJhFprl",
        "outputId": "72d29343-6eff-4380-fba1-c7ebc1beec11"
      },
      "outputs": [
        {
          "output_type": "stream",
          "name": "stdout",
          "text": [
            "\n",
            "  Escribe tu nombre:  Zai\n",
            " \n",
            " ¡Hola,Zai!\n"
          ]
        }
      ],
      "source": [
        "class Alumno:\n",
        "\tdef __init__(self,nombre):\n",
        "\t\tself.nom = nombre\n",
        "\tdef Saludar (self):\n",
        "\t\t\"\"\"Imprime un saludo en la pantalla\"\"\"\n",
        "\t\tprint(f\" \\n ¡Hola,{self.nom}!\")\n",
        "\n",
        "n = input(\"\\n  Escribe tu nombre:  \")\n",
        "x = Alumno(n)\n",
        "x.Saludar()"
      ]
    }
  ]
}