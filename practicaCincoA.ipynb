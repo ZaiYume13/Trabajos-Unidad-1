{
  "nbformat": 4,
  "nbformat_minor": 0,
  "metadata": {
    "colab": {
      "provenance": [],
      "authorship_tag": "ABX9TyNNwY22/B9rjqzboYJG+3/6",
      "include_colab_link": true
    },
    "kernelspec": {
      "name": "python3",
      "display_name": "Python 3"
    },
    "language_info": {
      "name": "python"
    }
  },
  "cells": [
    {
      "cell_type": "markdown",
      "metadata": {
        "id": "view-in-github",
        "colab_type": "text"
      },
      "source": [
        "<a href=\"https://colab.research.google.com/github/ZaiYume13/Trabajos-Unidad-1/blob/main/practicaCincoA.ipynb\" target=\"_parent\"><img src=\"https://colab.research.google.com/assets/colab-badge.svg\" alt=\"Open In Colab\"/></a>"
      ]
    },
    {
      "cell_type": "code",
      "execution_count": 1,
      "metadata": {
        "colab": {
          "base_uri": "https://localhost:8080/"
        },
        "id": "TcVv5TmbP2Wg",
        "outputId": "5c868538-8419-49c6-e038-a5ce83782c74"
      },
      "outputs": [
        {
          "output_type": "stream",
          "name": "stdout",
          "text": [
            "\n",
            " Escribe la base del rectángulo: 15.7\n",
            " Escribe la altura del rectángulo: 5.2\n",
            "\n",
            " Escribe la base del triángulo: 16.9\n",
            " Escribe la altura del triángulo: 3.8\n",
            "\n",
            " El rectángulo con base de:  16.9  y con altura de:  3.8 , su área es de:  81.64\n",
            "\n",
            " El triángulo con base de:  16.9  y con altura de:  3.8 , su área es de:  32.10999999999999\n"
          ]
        }
      ],
      "source": [
        "class Poligono:\n",
        "\t\"\"\"Define un polígono según su base y su altura.\"\"\"\n",
        "\tdef __init__(self,b,h):\n",
        "\t\tself.b = b\n",
        "\t\tself.h = h\n",
        "\n",
        "class Rectangulo(Poligono):\n",
        "\tdef area (self):\n",
        "\t\treturn self.b * self.h\n",
        "\n",
        "class Triangulo(Poligono):\n",
        "\tdef area (self):\n",
        "\t\treturn (self.b * self.h)/2\n",
        "\n",
        "ba = float(input(\"\\n Escribe la base del rectángulo: \"))\n",
        "ha = float(input(\" Escribe la altura del rectángulo: \"))\n",
        "rectangulo = Rectangulo (ba,ha)\n",
        "ba = float(input(\"\\n Escribe la base del triángulo: \"))\n",
        "ha = float(input(\" Escribe la altura del triángulo: \"))\n",
        "triangulo = Triangulo (ba,ha)\n",
        "print(\"\\n El rectángulo con base de: \",ba,\" y con altura de: \",ha,\", su área es de: \",rectangulo.area())\n",
        "print(\"\\n El triángulo con base de: \",ba,\" y con altura de: \",ha,\", su área es de: \",triangulo.area())\n"
      ]
    }
  ]
}