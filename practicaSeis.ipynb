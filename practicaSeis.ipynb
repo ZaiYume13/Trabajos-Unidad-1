{
  "nbformat": 4,
  "nbformat_minor": 0,
  "metadata": {
    "colab": {
      "provenance": [],
      "authorship_tag": "ABX9TyMeno/6Ht40vp6Y+K8onRb1",
      "include_colab_link": true
    },
    "kernelspec": {
      "name": "python3",
      "display_name": "Python 3"
    },
    "language_info": {
      "name": "python"
    }
  },
  "cells": [
    {
      "cell_type": "markdown",
      "metadata": {
        "id": "view-in-github",
        "colab_type": "text"
      },
      "source": [
        "<a href=\"https://colab.research.google.com/github/ZaiYume13/Trabajos-Unidad-1/blob/main/practicaSeis.ipynb\" target=\"_parent\"><img src=\"https://colab.research.google.com/assets/colab-badge.svg\" alt=\"Open In Colab\"/></a>"
      ]
    },
    {
      "cell_type": "code",
      "execution_count": 1,
      "metadata": {
        "colab": {
          "base_uri": "https://localhost:8080/"
        },
        "id": "1J0JMvYy4wLA",
        "outputId": "19898974-c10a-4d2c-9bdc-44f431489cc8"
      },
      "outputs": [
        {
          "output_type": "stream",
          "name": "stdout",
          "text": [
            "\n",
            "Escribe tu nombre: Zaira\n",
            "\n",
            "Escribe la 1° calificación: 90\n",
            "Escribe la 2° calificación: 89\n",
            "Escribe la 3° calificación: 65\n",
            "\n",
            " Zaira  con calificaciones.  90 , 89  y  65  su promedio es 81.33333333333333  por lo que está  \n",
            "APROBADO\n"
          ]
        }
      ],
      "source": [
        "class Promedios:\n",
        "\tdef __init__(self):\n",
        "\t\tself.c1 = 0\n",
        "\t\tself.c2 = 0\n",
        "\t\tself.c3 = 0\n",
        "\t\tself.n = \"\"\n",
        "\n",
        "\tdef prom(self):\n",
        "\t\tr = (self.c1 + self.c2 + self.c3)/3\n",
        "\t\treturn r\n",
        "\n",
        "\tdef comparacion(self,num):\n",
        "\t\tif num >= 70:\n",
        "\t\t\trs = \"\\nAPROBADO\"\n",
        "\t\telse:\n",
        "\t\t\trs = \"\\nREPROBADO\"\n",
        "\t\treturn rs\n",
        "\n",
        "p = Promedios()\n",
        "p.n = input(\"\\nEscribe tu nombre: \")\n",
        "p.c1 = int(input(\"\\nEscribe la 1° calificación: \"))\n",
        "p.c2 = int(input(\"Escribe la 2° calificación: \"))\n",
        "p.c3 = int(input(\"Escribe la 3° calificación: \"))\n",
        "\n",
        "p.comparacion(p.prom())\n",
        "\n",
        "pr = p.prom()\n",
        "c = p.comparacion(pr)\n",
        "\n",
        "print(\"\\n\",p.n,\" con calificaciones. \",p.c1,\",\",p.c2,\" y \",p.c3,\" su promedio es\",pr, \" por lo que está \",c)"
      ]
    }
  ]
}